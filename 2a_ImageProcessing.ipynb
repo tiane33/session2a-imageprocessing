{
 "cells": [
  {
   "cell_type": "markdown",
   "metadata": {},
   "source": [
    "# Session 2a: Image processing using Python\n",
    "*IMPRS - Using Python for Cognitive Science (2022). This tutorial is made by Noor Seijdel and is partly based on work by [Lukas Snoek](https://lukas-snoek.com/) and [Sophie Slaats](https://www.mpi.nl/people/slaats-sophie), and on the [Pillow tutorial](https://pillow.readthedocs.io/en/stable/handbook/tutorial.html).*\n",
    "\n",
    "Welcome! In this week you will learn how to use Python for image processing. In the past weeks you have become familiar with basic Python syntax and constructs and some Python packages. In this week, we will discuss digital image processing using Jupyter notebooks. \n",
    "\n",
    "After this session you will know:\n",
    "- What a Jupyter notebook is, and how you can use one\n",
    "- How to open and save image files\n",
    "- How to resize, crop, copy, move, rotate or overlay images\n",
    "- How to convert an image to a different file format \n",
    "\n",
    "Doing these things will help to improve your Python skills and will demonstrate how to prepare images for your experiments. \n",
    "\n",
    "### 1. Before we begin.. what is a Jupyter notebook?\n",
    "As you can see, you are currently looking at a file with a \".ipynb\" extension, instead of the \".py\" files we worked with in the previous weeks. This means you're looking at a Jupyter notebook file. Jupyter notebooks (previously called \"IPython Notebooks, hence \"ipynb\") are a kind of editor from which you can run Python code. \n",
    "\n",
    "##### 1.1 Code cells \n",
    "The nice thing about these notebooks is that you can mix text cells (such as the one you are reading now) with code cells. Similar to code sections in R (indicated using  \"#\") or in MATLAB (using \"%%\") using code cells allows you to run only a part of your code. Let's look at a code cell:\n",
    "\n",
    "\n"
   ]
  },
  {
   "cell_type": "code",
   "execution_count": null,
   "metadata": {},
   "outputs": [
    {
     "ename": "",
     "evalue": "",
     "output_type": "error",
     "traceback": [
      "\u001b[1;31mRunning cells with 'Python 3.6.6 64-bit (system)' requires ipykernel package.\n",
      "Run the following command to install 'ipykernel' into the Python environment. \n",
      "Command: '\"C:/Program Files/PsychoPy/python.exe\" -m pip install ipykernel -U --user --force-reinstall'"
     ]
    }
   ],
   "source": [
    "# This a code cell. You can edit this code cell, and run it by clicking the \"play sign\" or by pressing shift+enter. \n",
    "# Try to print your own name below:\n",
    "\n",
    "my_name = \"Christiane\"\n",
    "print(\"My name is \" + my_name)\n",
    "\n"
   ]
  },
  {
   "cell_type": "markdown",
   "metadata": {},
   "source": [
    "##### 1.2 Text cells\n",
    "Text is written in so-called \"markdown cells\". Markdown cells accept plain text and can be formatted using special Markdown syntax. For example: \n",
    "\n",
    "\\# One hash creates a large header \\\n",
    "\\## Two hashes creates a slightly smaller header (this goes up to four hashes)\n",
    "\n",
    "Bold text can be created by enclosing text in **double asterisks** (\\*\\* like this \\*\\*) and italicized text can be created by enclosing text in *single asterisks* (\\* like this \\*). You can even include URLs and insert images from the web; check this [link](https://github.com/adam-p/markdown-here/wiki/Markdown-Cheatsheet) for a cheatsheet with markdown syntax and options! All the special markdown-syntax and options will be converted to readable text after running the text cell (again, by pressing the \"play\" button or by Shift+Enter).\n",
    "\n",
    "Double-click on the markdown cell below and type some sentences to try it out! Formatting happens when you run the cell  (click the \"play\" button or Shift+Enter)."
   ]
  },
  {
   "cell_type": "markdown",
   "metadata": {},
   "source": []
  },
  {
   "cell_type": "markdown",
   "metadata": {},
   "source": [
    "##### 1.3 Inline visualization\n",
    "Another nice feature of Jupyter notebooks is that you can look at images or generate plots in the same notebook. For example, you can load an image you have on your computer, and visualize it in your notebook directly. This makes notebooks particularly useful for demos or when you want to explore and plot your data. Try it out by running (click the \"play\" button or Shift+Enter) the next cell.\n",
    "\n",
    "**NB**: change the folder so that it matches your local folder structure first!"
   ]
  },
  {
   "cell_type": "code",
   "execution_count": null,
   "metadata": {},
   "outputs": [],
   "source": [
    "# import some packages\n",
    "import os\n",
    "from PIL import Image \n",
    "\n",
    "# load an image from file\n",
    "test_img = Image.open(\"p:\\\\workspaces\\\\nbl-communicativebrain\\\\working_data\\\\Noor\\\\teaching\\\\IMPRS_Python\\\\session2a-image-master\\\\raw\\\\mpi.jpg\")\n",
    "display(test_img)"
   ]
  },
  {
   "cell_type": "markdown",
   "metadata": {},
   "source": [
    "Alternatively, if you prefer to display the image on an external viewer, you can use the show() method. This displays the image in an external window, using an external image viewer (usually Preview on macOS, xv on Unix, and the Paint program on Windows). Try it out:"
   ]
  },
  {
   "cell_type": "code",
   "execution_count": null,
   "metadata": {},
   "outputs": [],
   "source": [
    "test_img.show()"
   ]
  },
  {
   "cell_type": "markdown",
   "metadata": {},
   "source": [
    "Alright. So we've shown you how to edit text cells and code cells, and how to run them. \n",
    "\n",
    "<font color='green'>**Exercise 1**</font>\n",
    " Now let's see if you can figure out yourself how to insert a new code cell and a markdown cell below. \n",
    " - Use the code cell to calculate `32123 - 12321`  \n",
    " - In the markdown cell, try to write some words in **bold** and some in *italic*. \n",
    "\n",
    "\n",
    " \n"
   ]
  },
  {
   "cell_type": "markdown",
   "metadata": {},
   "source": [
    "<font color='green'>**Exercise 2**</font> Sometimes, you accidentally insert the wrong cell type, or you accidentally change the cell type from \"code\" to \"markdown\" (or vise versa). To change it back, you can click on the three dots that appear at the top right when you are editing a cell, and click \"Change Cell to ..\". Try it out! Change the following code cell, which contains markdown, into a markdown cell:"
   ]
  },
  {
   "cell_type": "code",
   "execution_count": null,
   "metadata": {},
   "outputs": [],
   "source": [
    "This is a code cell, but it contains markdown, **oh no**!"
   ]
  },
  {
   "cell_type": "markdown",
   "metadata": {},
   "source": [
    "If you want, have a look at all the other icons to see what they do. "
   ]
  },
  {
   "cell_type": "markdown",
   "metadata": {},
   "source": [
    "### 2. Image processing\n",
    "Now that you've had your first contact with Jupyter notebooks - let's talk about about image processing.\n",
    "\n",
    "##### 2.1 What is an image?\n",
    "An image, digital image, or still image is a binary representation of visual information, such as drawings, pictures, graphs, logos, or individual video frames. An image is composed of picture elements, also known as pixels, each with a value for its intensity or gray-level. \n",
    "\n",
    "There are two ways a digital image can be encoded: \n",
    "- Bitmap images (.jpeg, .gif, ,.png)\n",
    "- Vector images (.svg, .eps, .ai)\n",
    "\n",
    "Today, we will focus on Bitmap images. \n",
    "\n",
    "##### 2.2 Bitmap images\n",
    "Bitmap images (also known as raster images) are made up of pixels in a grid. Pixels are picture elements; tiny dots of individual colour that make up what you see on your screen. Pixels are defined by 2 properties: their *position* on the picture/grid and their *colour value*. These properties are stored in a bitmap file for every single pixel in the picture. This means that images are actually arrays (do you remember arrays?) of binary numbers. The more bits (the longer the binary number), the more colours that can be encoded.\n",
    "\n"
   ]
  },
  {
   "cell_type": "markdown",
   "metadata": {},
   "source": [
    "##### 2.3 Image processing libraries - Pillow\n",
    "If you are doing your image processing with Python, there are various libraries you could use. Some popular ones are OpenCV, scikit-image, Python Imaging Library and Pillow. We won't discuss which image processing library is the best here; they all have their merits. This module will focus on Pillow, a powerful library that provides a wide array of image processing features and is simple to use. \n",
    "\n",
    "Pillow is a fork of the Python Imaging Library (PIL). PIL is a library that offers several standard procedures for manipulating images. It's a powerful library but hasn't been updated since 2009 and doesn't support Python 3. Pillow builds on this, adding more features and support for Python 3. It supports a range of image file formats such as PNG, JPEG, PPM, GIF, TIFF, and BMP. We'll see how to perform various operations on images such as cropping, resizing, adding text to images, rotating, greyscaling, etc., using this library.\n",
    "\n",
    "##### 2.4 Locating the images \n",
    "\n",
    "Before we can work with and edit images, the system needs to know where we've stored them. If you have correctly forked and cloned this week's repository, you should have a folder with images located in your repository. You can use those images for the exercises. However, if you want to play around with your own images, feel free to use those!  "
   ]
  },
  {
   "cell_type": "code",
   "execution_count": null,
   "metadata": {},
   "outputs": [],
   "source": [
    "# Let's print the current working directory using the os module. Works for UNIX, Windows, MacOs...\n",
    "# e.g, to get your current working directory, you can use:\n",
    "os.getcwd()"
   ]
  },
  {
   "cell_type": "markdown",
   "metadata": {},
   "source": [
    "Let's list the images in our image folder:"
   ]
  },
  {
   "cell_type": "code",
   "execution_count": null,
   "metadata": {},
   "outputs": [],
   "source": [
    "# define the folder containing the images and list the images\n",
    "# Don't forget to change this folder \n",
    "img_folder = \"p:\\\\workspaces\\\\nbl-communicativebrain\\\\working_data\\\\Noor\\\\teaching\\\\IMPRS_Python\\\\session2a-image-master\\\\raw\"\n",
    "img_list = os.listdir(img_folder)\n",
    "print(img_list)"
   ]
  },
  {
   "cell_type": "markdown",
   "metadata": {},
   "source": [
    "As you can see, we have a nice set of images containing different animals and objects. Let's start by loading in one of the images from file\n",
    "\n",
    "##### 2.5 Loading an image from file"
   ]
  },
  {
   "cell_type": "code",
   "execution_count": null,
   "metadata": {},
   "outputs": [],
   "source": [
    "img_path = os.path.join(img_folder,'bird.jpg')\n",
    "img = Image.open(img_path)"
   ]
  },
  {
   "cell_type": "markdown",
   "metadata": {},
   "source": [
    "Because of using 'Image' from Pillow, the variable 'img' is now of class 'Image'.\n",
    "What a class is, we will discuss later. For now, it is only necessary to know that a class has ATTRIBUTES. 'Image' has attributes like 'format' ['size'](https://pillow.readthedocs.io/en/stable/handbook/concepts.html#size), and ['mode'](https://pillow.readthedocs.io/en/stable/handbook/concepts.html#concept-modes). Let's see what that means by printing some of those attributes: \n"
   ]
  },
  {
   "cell_type": "code",
   "execution_count": null,
   "metadata": {},
   "outputs": [],
   "source": [
    "print(img.size)"
   ]
  },
  {
   "cell_type": "markdown",
   "metadata": {},
   "source": [
    "<font color='green'>**Exercise 3**</font> Find out what is the mode and format of \"img\" by printing them in the code cell below: "
   ]
  },
  {
   "cell_type": "code",
   "execution_count": null,
   "metadata": {},
   "outputs": [],
   "source": [
    "# This is a code cell\n"
   ]
  },
  {
   "cell_type": "markdown",
   "metadata": {},
   "source": [
    "The format attribute identifies the source of an image. If the image was not read from a file, it is set to None. \n",
    "\n",
    "The size attribute is a 2-tuple containing width and height (in pixels). \n",
    "\n",
    "The mode attribute defines the number and names of the bands in the image, and also the pixel type and depth. Common modes are “L” (luminance) for greyscale images, “RGB” for true color images, and “CMYK” for pre-press images. Once you have an instance of the Image class, you can use the methods defined by this class to process and manipulate the image. \n",
    "\n",
    "For example, let’s display the image we just loaded.\n",
    "\n",
    "<font color='green'>**Exercise 4**</font> Display the image below (you can choose if you want to do this *within the notebook* or using an *external viewer*)\n"
   ]
  },
  {
   "cell_type": "code",
   "execution_count": null,
   "metadata": {},
   "outputs": [],
   "source": [
    "# use this code cell to display the image \n",
    "\n",
    "\n",
    "\n",
    "\n"
   ]
  },
  {
   "cell_type": "markdown",
   "metadata": {},
   "source": [
    "##### 2.6 Changing the image format\n",
    "\n",
    "Pillow supports a wide variety of image file formats. You don’t have to know the file format to open a file, as the library automatically determines the format based on the contents of the file. To save a file, you can use the save() method of the Image class. When saving files, the name becomes important. Unless you specify the format, the library uses the filename extension to discover which file storage format to use. \n",
    "\n",
    "Let's see what that means, by saving the image to a new file extension. To do this, we will first need to split the extension (\".jpg\" in our case) and the name, using os.path.splitext:"
   ]
  },
  {
   "cell_type": "code",
   "execution_count": null,
   "metadata": {},
   "outputs": [],
   "source": [
    "# first: split the extension and the name using os.path.splitext\n",
    "# N.B.: the function os.path.split() splits the path to the folder from the filename.\n",
    "filename, extension = os.path.splitext(img_path)\n",
    "print(filename)\n"
   ]
  },
  {
   "cell_type": "markdown",
   "metadata": {},
   "source": [
    "Now, we can generate the filename with a \".png\" extension and save the file: "
   ]
  },
  {
   "cell_type": "code",
   "execution_count": null,
   "metadata": {},
   "outputs": [],
   "source": [
    "# generate new filename\n",
    "outfile = filename + \".png\"\n",
    "\n",
    "# save the file\n",
    "img.save(outfile, \"PNG\")\n",
    "\n",
    "# note that you can also change the name and save the file again.\n",
    "new_img_path = os.path.join(img_folder, \"a_Python_will_eat_this_bird.png\")\n",
    "img.save(new_img_path)"
   ]
  },
  {
   "cell_type": "markdown",
   "metadata": {},
   "source": [
    "Hopefully that worked! Check it out by having a look at your image folder. \n",
    "\n",
    "While this is nice, you might want to save your images in a different folder so that you can send the correct version of the images to your colleague. Let's see if we can delete the files and save them to a new folder instead: \n"
   ]
  },
  {
   "cell_type": "code",
   "execution_count": null,
   "metadata": {},
   "outputs": [],
   "source": [
    "# delete the files \n",
    "os.remove(outfile)\n",
    "os.remove(new_img_path)\n",
    "\n",
    "# make a new folder\n",
    "new_folder = \"p:\\\\workspaces\\\\nbl-communicativebrain\\\\working_data\\\\Noor\\\\teaching\\\\IMPRS_Python\\\\session2a-image-master\\]edited_images\" #Make sure this folder corresponds to your own folder structure!\n",
    "os.mkdir(new_folder)\n",
    "\n",
    "# save the file\n",
    "img.save(os.path.join(new_folder, \"bird.png\"))\n"
   ]
  },
  {
   "cell_type": "markdown",
   "metadata": {},
   "source": [
    "<font color='green'>**Exercise 5**</font> Copy all the .jpg files as .png to the new folder. If you want, you can use a for-loop (hint: we have a list of the images stored in \"img_list\")\n"
   ]
  },
  {
   "cell_type": "code",
   "execution_count": null,
   "metadata": {},
   "outputs": [],
   "source": [
    "# Use this code cell "
   ]
  },
  {
   "cell_type": "markdown",
   "metadata": {},
   "source": [
    "##### 2.7 Editing your images \n",
    "\n",
    "The Image class also contains methods allowing you to manipulate regions within an image. For example. to extract a sub-rectangle from an image, you can use the crop method:\n",
    "\n",
    "**2.7.1 Cropping**\n"
   ]
  },
  {
   "cell_type": "code",
   "execution_count": null,
   "metadata": {},
   "outputs": [],
   "source": [
    "# cropping an image, coordinates: (left upper / right lower)\n",
    "reg = (50, 50, 150, 150)  # random square, in pixels\n",
    "img_crop = img.crop(reg)\n",
    "display(img_crop)\n",
    "\n",
    "# now you can save this if you want\n",
    "img_crop.save(os.path.join(new_folder, \"cropped_image.png\"))"
   ]
  },
  {
   "cell_type": "markdown",
   "metadata": {},
   "source": [
    "**2.7.2 Resizing**\n",
    "\n",
    "We can also resize the image:"
   ]
  },
  {
   "cell_type": "code",
   "execution_count": null,
   "metadata": {},
   "outputs": [],
   "source": [
    "img_400 = img.resize((400, 400))\n",
    "img_400.save(os.path.join(new_folder,'image_400.jpg'))\n",
    "\n",
    "print(img.size) # Output: (1920, 1280)\n",
    "print(img_400.size) # Output: (400, 400)\n",
    "\n",
    "display(img)\n",
    "display(img_400)"
   ]
  },
  {
   "cell_type": "markdown",
   "metadata": {},
   "source": [
    "If you want to resize the image and keep the aspect ratios as it is, then you can use a thumbnail() function to resize it instead of the resize() function.\n",
    "This also takes a two-integer tuple argument representing a maximum width and the maximum height of the thumbnail. It is important to note that this function modifies the Image object in place. If you need to use the full resolution (original) image as well, you can apply this method to a copy() of the original image:"
   ]
  },
  {
   "cell_type": "code",
   "execution_count": null,
   "metadata": {},
   "outputs": [],
   "source": [
    "img_thumb = img.copy() #Make a copy of the image\n",
    "img_thumb.thumbnail((400, 400))\n",
    "\n",
    "print(img.size) # Output: (1920, 1280)\n",
    "print(img_thumb.size) # Output: (400, 400)\n",
    "\n",
    "display(img)\n",
    "display(img_thumb)"
   ]
  },
  {
   "cell_type": "markdown",
   "metadata": {},
   "source": [
    "\n",
    "We could also flip the cropped region of the image, paste it back on the image and resize the image: "
   ]
  },
  {
   "cell_type": "code",
   "execution_count": null,
   "metadata": {},
   "outputs": [],
   "source": [
    "# we could also flip it and paste it back\n",
    "img_crop = img_crop.transpose(Image.ROTATE_180)\n",
    "img.paste(img_crop, reg) # this directly edits the img variable!\n",
    "\n",
    "img_600 = img.resize((600, 600))\n",
    "\n",
    "display(img_600)\n"
   ]
  },
  {
   "cell_type": "markdown",
   "metadata": {},
   "source": [
    "What if we want to crop the image such that it is the largest square it can be (given the original image size)?"
   ]
  },
  {
   "cell_type": "code",
   "execution_count": null,
   "metadata": {},
   "outputs": [],
   "source": [
    "# get the width and height of the image\n",
    "width = img.width\n",
    "height = img.height\n",
    "\n",
    "# to create a square\n",
    "distance_from_center = min([width, height])/2\n",
    "center = (width/2, height/2)\n",
    "\n",
    "left = []\n",
    "right = []\n",
    "\n",
    "for number in center:\n",
    "    left.append(number - distance_from_center)\n",
    "    right.append(number + distance_from_center)\n",
    "\n",
    "img_square = img.crop((left[0], left[1], right[0], right[1]))\n",
    "img_square.show()"
   ]
  },
  {
   "cell_type": "markdown",
   "metadata": {},
   "source": [
    "Using the `crop` and `paste` methods, we can also \"roll\" an image. Let's see what I mean by that: "
   ]
  },
  {
   "cell_type": "code",
   "execution_count": null,
   "metadata": {},
   "outputs": [],
   "source": [
    "# Here we define a function \"roll\" that takes \"image\" and \"delta\" as arguments, and returns the \"rolled\" image\n",
    "def roll(image, delta):\n",
    "    \"\"\"Roll an image sideways.\"\"\"\n",
    "    xsize, ysize = image.size\n",
    "\n",
    "    delta = delta % xsize\n",
    "    if delta == 0:\n",
    "        return image\n",
    "\n",
    "    part1 = image.crop((0, 0, delta, ysize))\n",
    "    part2 = image.crop((delta, 0, xsize, ysize))\n",
    "    image.paste(part1, (xsize - delta, 0, xsize, ysize))\n",
    "    image.paste(part2, (0, 0, xsize - delta, ysize))\n",
    "\n",
    "    return image\n",
    "\n",
    "\n",
    "# Here we call the function, using our \"img\" and delta=600\n",
    "roll(img,delta=200)"
   ]
  },
  {
   "cell_type": "markdown",
   "metadata": {},
   "source": [
    "As you can see, we can do whatever we want to the image! However, when pasting regions back, the size of the region must match the given region exactly. In addition, the region cannot extend outside the image. The modes of the original image and the region do not need to match. If they don’t, the region is automatically converted before being pasted.\n",
    "\n",
    "**2.7.3 Converting to greyscale**\n",
    "\n",
    "PThe Python Imaging Library allows you to convert images between different pixel representations using the convert() method:\n"
   ]
  },
  {
   "cell_type": "code",
   "execution_count": null,
   "metadata": {},
   "outputs": [],
   "source": [
    "# converting between modes\n",
    "blw = img_600.convert(\"L\")\n",
    "display(blw)\n"
   ]
  },
  {
   "cell_type": "markdown",
   "metadata": {},
   "source": [
    "<font color='green'>**Exercise 6**</font> Load the \"clock.jpg\" image, and crop it so that you only see the number \"6\""
   ]
  },
  {
   "cell_type": "code",
   "execution_count": null,
   "metadata": {},
   "outputs": [],
   "source": [
    "# Use this code cell"
   ]
  },
  {
   "cell_type": "markdown",
   "metadata": {},
   "source": [
    "Okay! So far we've seen a couple ways to edit and process images using Python. Pillow provides many more methods and modules that can be used to process image. You can find more on: https://pillow.readthedocs.io/en/stable/index.html. \n",
    "\n"
   ]
  },
  {
   "cell_type": "markdown",
   "metadata": {},
   "source": [
    "<font color='yellow'>**Homework assignment**</font> \n",
    "\n",
    "For this week's assignment, we want you to create a new folder called \"processed\" where all images from \"raw\" are stored in .png. All images need to be cropped to ratio 4:3 (or 3:4) and resized to be all the same size. \n",
    "\n",
    "*Important:*\n",
    "\n",
    "0. There are different extensions\n",
    "1. They are all different sizes\n",
    "2. We have portrait and landscape orientated images\n",
    "\n",
    "\n",
    "*Steps:*\n",
    "\n",
    "0. Create a new folder\n",
    "1. Define portrait and landscape images\n",
    "2. Figure out on which side you have to crop the image\n",
    "3. Crop the image\n",
    "4. Resize the image\n",
    "5. Save it to your new folder with the new extension. That's it!"
   ]
  },
  {
   "cell_type": "code",
   "execution_count": null,
   "metadata": {},
   "outputs": [],
   "source": [
    "# Assignment:\n",
    "# "
   ]
  },
  {
   "cell_type": "markdown",
   "metadata": {},
   "source": [
    "<font color='Pink'>**Bonus**</font>  If you have time, try to create an animated GIF from multiple images and save it using Image.save(). "
   ]
  },
  {
   "cell_type": "code",
   "execution_count": null,
   "metadata": {},
   "outputs": [],
   "source": []
  }
 ],
 "metadata": {
  "interpreter": {
   "hash": "b3ba2566441a7c06988d0923437866b63cedc61552a5af99d1f4fb67d367b25f"
  },
  "kernelspec": {
   "display_name": "Python 3.8.5 64-bit ('base': conda)",
   "language": "python",
   "name": "python3"
  },
  "language_info": {
   "codemirror_mode": {
    "name": "ipython",
    "version": 3
   },
   "file_extension": ".py",
   "mimetype": "text/x-python",
   "name": "python",
   "nbconvert_exporter": "python",
   "pygments_lexer": "ipython3",
   "version": "3.6.6"
  },
  "orig_nbformat": 4
 },
 "nbformat": 4,
 "nbformat_minor": 2
}
